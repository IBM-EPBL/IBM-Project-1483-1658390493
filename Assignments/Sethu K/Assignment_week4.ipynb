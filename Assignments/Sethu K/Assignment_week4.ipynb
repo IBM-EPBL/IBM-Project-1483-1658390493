{
 "cells": [
  {
   "cell_type": "markdown",
   "metadata": {
    "id": "OFjevLRhccLv"
   },
   "source": [
    "# ASSIGNMENT 4"
   ]
  },
  {
   "cell_type": "markdown",
   "metadata": {},
   "source": [
    "## 1.IMPORTING LIBRARIES\n"
   ]
  },
  {
   "cell_type": "code",
   "execution_count": 28,
   "metadata": {
    "id": "3NsESwn1cnhW"
   },
   "outputs": [],
   "source": [
    "import pandas as pd\n",
    "import numpy as np\n",
    "import matplotlib.pyplot as plt\n",
    "import seaborn as sns\n",
    "import warnings\n",
    "warnings.filterwarnings('ignore')"
   ]
  },
  {
   "cell_type": "markdown",
   "metadata": {
    "id": "oEwZfI3Rdq6R"
   },
   "source": [
    "## 2.TO LOAD THE DATASET"
   ]
  },
  {
   "cell_type": "code",
   "execution_count": 29,
   "metadata": {
    "id": "5wV-1FordSLh"
   },
   "outputs": [],
   "source": [
    "data = pd.read_csv(r\"E:/Data Science/Mall_Customers.csv\")"
   ]
  },
  {
   "cell_type": "code",
   "execution_count": 30,
   "metadata": {
    "colab": {
     "base_uri": "https://localhost:8080/",
     "height": 206
    },
    "id": "vIRthR6GdZJU",
    "outputId": "a40fbf0e-5820-418d-ed3a-a6fe46f90b9e"
   },
   "outputs": [
    {
     "data": {
      "text/html": [
       "<div>\n",
       "<style scoped>\n",
       "    .dataframe tbody tr th:only-of-type {\n",
       "        vertical-align: middle;\n",
       "    }\n",
       "\n",
       "    .dataframe tbody tr th {\n",
       "        vertical-align: top;\n",
       "    }\n",
       "\n",
       "    .dataframe thead th {\n",
       "        text-align: right;\n",
       "    }\n",
       "</style>\n",
       "<table border=\"1\" class=\"dataframe\">\n",
       "  <thead>\n",
       "    <tr style=\"text-align: right;\">\n",
       "      <th></th>\n",
       "      <th>CustomerID</th>\n",
       "      <th>Gender</th>\n",
       "      <th>Age</th>\n",
       "      <th>Annual Income (k$)</th>\n",
       "      <th>Spending Score (1-100)</th>\n",
       "    </tr>\n",
       "  </thead>\n",
       "  <tbody>\n",
       "    <tr>\n",
       "      <th>0</th>\n",
       "      <td>1</td>\n",
       "      <td>Male</td>\n",
       "      <td>19</td>\n",
       "      <td>15</td>\n",
       "      <td>39</td>\n",
       "    </tr>\n",
       "    <tr>\n",
       "      <th>1</th>\n",
       "      <td>2</td>\n",
       "      <td>Male</td>\n",
       "      <td>21</td>\n",
       "      <td>15</td>\n",
       "      <td>81</td>\n",
       "    </tr>\n",
       "    <tr>\n",
       "      <th>2</th>\n",
       "      <td>3</td>\n",
       "      <td>Female</td>\n",
       "      <td>20</td>\n",
       "      <td>16</td>\n",
       "      <td>6</td>\n",
       "    </tr>\n",
       "    <tr>\n",
       "      <th>3</th>\n",
       "      <td>4</td>\n",
       "      <td>Female</td>\n",
       "      <td>23</td>\n",
       "      <td>16</td>\n",
       "      <td>77</td>\n",
       "    </tr>\n",
       "    <tr>\n",
       "      <th>4</th>\n",
       "      <td>5</td>\n",
       "      <td>Female</td>\n",
       "      <td>31</td>\n",
       "      <td>17</td>\n",
       "      <td>40</td>\n",
       "    </tr>\n",
       "  </tbody>\n",
       "</table>\n",
       "</div>"
      ],
      "text/plain": [
       "   CustomerID  Gender  Age  Annual Income (k$)  Spending Score (1-100)\n",
       "0           1    Male   19                  15                      39\n",
       "1           2    Male   21                  15                      81\n",
       "2           3  Female   20                  16                       6\n",
       "3           4  Female   23                  16                      77\n",
       "4           5  Female   31                  17                      40"
      ]
     },
     "execution_count": 30,
     "metadata": {},
     "output_type": "execute_result"
    }
   ],
   "source": [
    "data.head()"
   ]
  },
  {
   "cell_type": "markdown",
   "metadata": {
    "id": "ZHkuXIWCd3Pp"
   },
   "source": [
    "## 3. Perform Below Visualizations."
   ]
  },
  {
   "cell_type": "markdown",
   "metadata": {},
   "source": [
    "# Univariate Analysis"
   ]
  },
  {
   "cell_type": "code",
   "execution_count": 31,
   "metadata": {
    "colab": {
     "base_uri": "https://localhost:8080/",
     "height": 317
    },
    "id": "wlEgoQNrd9Of",
    "outputId": "c6d4ac03-9a7a-4b1f-fff8-34288b6e41d7"
   },
   "outputs": [
    {
     "data": {
      "text/plain": [
       "(array([31., 19., 34., 29., 16., 26., 15., 10.,  6., 14.]),\n",
       " array([18. , 23.2, 28.4, 33.6, 38.8, 44. , 49.2, 54.4, 59.6, 64.8, 70. ]),\n",
       " <BarContainer object of 10 artists>)"
      ]
     },
     "execution_count": 31,
     "metadata": {},
     "output_type": "execute_result"
    },
    {
     "data": {
      "image/png": "[encoded data removed]",
      "text/plain": [
       "<Figure size 432x288 with 1 Axes>"
      ]
     },
     "metadata": {
      "needs_background": "light"
     },
     "output_type": "display_data"
    }
   ],
   "source": [
    "plt.hist(data['Age'])"
   ]
  },
  {
   "cell_type": "markdown",
   "metadata": {
    "id": "0OnMb7hjeDJi"
   },
   "source": [
    "## Bi- Variate Analysis"
   ]
  },
  {
   "cell_type": "code",
   "execution_count": 32,
   "metadata": {
    "colab": {
     "base_uri": "https://localhost:8080/",
     "height": 282
    },
    "id": "IqIEN6UAeG5Y",
    "outputId": "692648dd-9b38-4653-bde1-f8b793398aa5"
   },
   "outputs": [
    {
     "data": {
      "text/plain": [
       "<matplotlib.collections.PathCollection at 0x1636743e0a0>"
      ]
     },
     "execution_count": 32,
     "metadata": {},
     "output_type": "execute_result"
    },
    {
     "data": {
      "image/png": "[encoded data removed]",
      "text/plain": [
       "<Figure size 432x288 with 1 Axes>"
      ]
     },
     "metadata": {
      "needs_background": "light"
     },
     "output_type": "display_data"
    }
   ],
   "source": [
    "plt.scatter(data['Gender'],data['Annual Income (k$)'])"
   ]
  },
  {
   "cell_type": "markdown",
   "metadata": {
    "id": "6PWSfbF3eMfd"
   },
   "source": [
    "## Multivariate Analysis"
   ]
  },
  {
   "cell_type": "code",
   "execution_count": 33,
   "metadata": {
    "colab": {
     "base_uri": "https://localhost:8080/",
     "height": 698
    },
    "id": "aYAOP5q8eZS0",
    "outputId": "f65d6954-1583-4da6-9104-010d83170099"
   },
   "outputs": [
    {
     "data": {
      "text/plain": [
       "array([[<AxesSubplot: xlabel='Age', ylabel='Age'>,\n",
       "        <AxesSubplot: xlabel='Annual Income (k$)', ylabel='Age'>],\n",
       "       [<AxesSubplot: xlabel='Age', ylabel='Annual Income (k$)'>,\n",
       "        <AxesSubplot: xlabel='Annual Income (k$)', ylabel='Annual Income (k$)'>]],\n",
       "      dtype=object)"
      ]
     },
     "execution_count": 33,
     "metadata": {},
     "output_type": "execute_result"
    },
    {
     "data": {
      "image/png": "[encoded data removed]",
      "text/plain": [
       "<Figure size 720x720 with 4 Axes>"
      ]
     },
     "metadata": {
      "needs_background": "light"
     },
     "output_type": "display_data"
    }
   ],
   "source": [
    "pd.plotting.scatter_matrix(data.loc[:,\"Age\":\"Annual Income (k$)\"] , diagonal =\"kde\", figsize=(10,10))"
   ]
  },
  {
   "cell_type": "markdown",
   "metadata": {
    "id": "rwuit5ZZecS-"
   },
   "source": [
    "## 4. Perform descriptive statistics on the dataset."
   ]
  },
  {
   "cell_type": "code",
   "execution_count": 34,
   "metadata": {
    "colab": {
     "base_uri": "https://localhost:8080/",
     "height": 300
    },
    "id": "fiojOaPjeyfZ",
    "outputId": "56b71f03-d483-424b-8027-e29fe054069b"
   },
   "outputs": [
    {
     "data": {
      "text/html": [
       "<div>\n",
       "<style scoped>\n",
       "    .dataframe tbody tr th:only-of-type {\n",
       "        vertical-align: middle;\n",
       "    }\n",
       "\n",
       "    .dataframe tbody tr th {\n",
       "        vertical-align: top;\n",
       "    }\n",
       "\n",
       "    .dataframe thead th {\n",
       "        text-align: right;\n",
       "    }\n",
       "</style>\n",
       "<table border=\"1\" class=\"dataframe\">\n",
       "  <thead>\n",
       "    <tr style=\"text-align: right;\">\n",
       "      <th></th>\n",
       "      <th>CustomerID</th>\n",
       "      <th>Age</th>\n",
       "      <th>Annual Income (k$)</th>\n",
       "      <th>Spending Score (1-100)</th>\n",
       "    </tr>\n",
       "  </thead>\n",
       "  <tbody>\n",
       "    <tr>\n",
       "      <th>count</th>\n",
       "      <td>200.000000</td>\n",
       "      <td>200.000000</td>\n",
       "      <td>200.000000</td>\n",
       "      <td>200.000000</td>\n",
       "    </tr>\n",
       "    <tr>\n",
       "      <th>mean</th>\n",
       "      <td>100.500000</td>\n",
       "      <td>38.850000</td>\n",
       "      <td>60.560000</td>\n",
       "      <td>50.200000</td>\n",
       "    </tr>\n",
       "    <tr>\n",
       "      <th>std</th>\n",
       "      <td>57.879185</td>\n",
       "      <td>13.969007</td>\n",
       "      <td>26.264721</td>\n",
       "      <td>25.823522</td>\n",
       "    </tr>\n",
       "    <tr>\n",
       "      <th>min</th>\n",
       "      <td>1.000000</td>\n",
       "      <td>18.000000</td>\n",
       "      <td>15.000000</td>\n",
       "      <td>1.000000</td>\n",
       "    </tr>\n",
       "    <tr>\n",
       "      <th>25%</th>\n",
       "      <td>50.750000</td>\n",
       "      <td>28.750000</td>\n",
       "      <td>41.500000</td>\n",
       "      <td>34.750000</td>\n",
       "    </tr>\n",
       "    <tr>\n",
       "      <th>50%</th>\n",
       "      <td>100.500000</td>\n",
       "      <td>36.000000</td>\n",
       "      <td>61.500000</td>\n",
       "      <td>50.000000</td>\n",
       "    </tr>\n",
       "    <tr>\n",
       "      <th>75%</th>\n",
       "      <td>150.250000</td>\n",
       "      <td>49.000000</td>\n",
       "      <td>78.000000</td>\n",
       "      <td>73.000000</td>\n",
       "    </tr>\n",
       "    <tr>\n",
       "      <th>max</th>\n",
       "      <td>200.000000</td>\n",
       "      <td>70.000000</td>\n",
       "      <td>137.000000</td>\n",
       "      <td>99.000000</td>\n",
       "    </tr>\n",
       "  </tbody>\n",
       "</table>\n",
       "</div>"
      ],
      "text/plain": [
       "       CustomerID         Age  Annual Income (k$)  Spending Score (1-100)\n",
       "count  200.000000  200.000000          200.000000              200.000000\n",
       "mean   100.500000   38.850000           60.560000               50.200000\n",
       "std     57.879185   13.969007           26.264721               25.823522\n",
       "min      1.000000   18.000000           15.000000                1.000000\n",
       "25%     50.750000   28.750000           41.500000               34.750000\n",
       "50%    100.500000   36.000000           61.500000               50.000000\n",
       "75%    150.250000   49.000000           78.000000               73.000000\n",
       "max    200.000000   70.000000          137.000000               99.000000"
      ]
     },
     "execution_count": 34,
     "metadata": {},
     "output_type": "execute_result"
    }
   ],
   "source": [
    "data.describe()"
   ]
  },
  {
   "cell_type": "code",
   "execution_count": 35,
   "metadata": {
    "colab": {
     "base_uri": "https://localhost:8080/",
     "height": 175
    },
    "id": "7QMf_-u2e2mx",
    "outputId": "5602e97c-09e1-4861-996c-372664acf217"
   },
   "outputs": [
    {
     "data": {
      "text/html": [
       "<div>\n",
       "<style scoped>\n",
       "    .dataframe tbody tr th:only-of-type {\n",
       "        vertical-align: middle;\n",
       "    }\n",
       "\n",
       "    .dataframe tbody tr th {\n",
       "        vertical-align: top;\n",
       "    }\n",
       "\n",
       "    .dataframe thead th {\n",
       "        text-align: right;\n",
       "    }\n",
       "</style>\n",
       "<table border=\"1\" class=\"dataframe\">\n",
       "  <thead>\n",
       "    <tr style=\"text-align: right;\">\n",
       "      <th></th>\n",
       "      <th>count</th>\n",
       "      <th>mean</th>\n",
       "      <th>std</th>\n",
       "      <th>min</th>\n",
       "      <th>25%</th>\n",
       "      <th>50%</th>\n",
       "      <th>75%</th>\n",
       "      <th>max</th>\n",
       "    </tr>\n",
       "  </thead>\n",
       "  <tbody>\n",
       "    <tr>\n",
       "      <th>CustomerID</th>\n",
       "      <td>200.0</td>\n",
       "      <td>100.50</td>\n",
       "      <td>57.879185</td>\n",
       "      <td>1.0</td>\n",
       "      <td>50.75</td>\n",
       "      <td>100.5</td>\n",
       "      <td>150.25</td>\n",
       "      <td>200.0</td>\n",
       "    </tr>\n",
       "    <tr>\n",
       "      <th>Age</th>\n",
       "      <td>200.0</td>\n",
       "      <td>38.85</td>\n",
       "      <td>13.969007</td>\n",
       "      <td>18.0</td>\n",
       "      <td>28.75</td>\n",
       "      <td>36.0</td>\n",
       "      <td>49.00</td>\n",
       "      <td>70.0</td>\n",
       "    </tr>\n",
       "    <tr>\n",
       "      <th>Annual Income (k$)</th>\n",
       "      <td>200.0</td>\n",
       "      <td>60.56</td>\n",
       "      <td>26.264721</td>\n",
       "      <td>15.0</td>\n",
       "      <td>41.50</td>\n",
       "      <td>61.5</td>\n",
       "      <td>78.00</td>\n",
       "      <td>137.0</td>\n",
       "    </tr>\n",
       "    <tr>\n",
       "      <th>Spending Score (1-100)</th>\n",
       "      <td>200.0</td>\n",
       "      <td>50.20</td>\n",
       "      <td>25.823522</td>\n",
       "      <td>1.0</td>\n",
       "      <td>34.75</td>\n",
       "      <td>50.0</td>\n",
       "      <td>73.00</td>\n",
       "      <td>99.0</td>\n",
       "    </tr>\n",
       "  </tbody>\n",
       "</table>\n",
       "</div>"
      ],
      "text/plain": [
       "                        count    mean        std   min    25%    50%     75%  \\\n",
       "CustomerID              200.0  100.50  57.879185   1.0  50.75  100.5  150.25   \n",
       "Age                     200.0   38.85  13.969007  18.0  28.75   36.0   49.00   \n",
       "Annual Income (k$)      200.0   60.56  26.264721  15.0  41.50   61.5   78.00   \n",
       "Spending Score (1-100)  200.0   50.20  25.823522   1.0  34.75   50.0   73.00   \n",
       "\n",
       "                          max  \n",
       "CustomerID              200.0  \n",
       "Age                      70.0  \n",
       "Annual Income (k$)      137.0  \n",
       "Spending Score (1-100)   99.0  "
      ]
     },
     "execution_count": 35,
     "metadata": {},
     "output_type": "execute_result"
    }
   ],
   "source": [
    "data.describe().T"
   ]
  },
  {
   "cell_type": "markdown",
   "metadata": {
    "id": "E64RUpSqe8Zx"
   },
   "source": [
    "## 5. Check for Missing values and deal with them."
   ]
  },
  {
   "cell_type": "code",
   "execution_count": 36,
   "metadata": {
    "colab": {
     "base_uri": "https://localhost:8080/"
    },
    "id": "6PI4bfB-e_rw",
    "outputId": "60654a0b-49d7-4b60-d44c-ee50f043198f"
   },
   "outputs": [
    {
     "data": {
      "text/plain": [
       "CustomerID                0\n",
       "Gender                    0\n",
       "Age                       0\n",
       "Annual Income (k$)        0\n",
       "Spending Score (1-100)    0\n",
       "dtype: int64"
      ]
     },
     "execution_count": 36,
     "metadata": {},
     "output_type": "execute_result"
    }
   ],
   "source": [
    "data.isna().sum()"
   ]
  },
  {
   "cell_type": "markdown",
   "metadata": {
    "id": "wQGRLZgQfIzY"
   },
   "source": [
    "## 6. Find the outliers and replace them outliers"
   ]
  },
  {
   "cell_type": "code",
   "execution_count": 37,
   "metadata": {
    "colab": {
     "base_uri": "https://localhost:8080/",
     "height": 328
    },
    "id": "zRa8pNeffNQF",
    "outputId": "690e9703-5194-4215-c3a9-dd25750aaf20"
   },
   "outputs": [
    {
     "data": {
      "text/plain": [
       "<AxesSubplot: xlabel='CustomerID'>"
      ]
     },
     "execution_count": 37,
     "metadata": {},
     "output_type": "execute_result"
    },
    {
     "data": {
      "image/png": "[encoded data removed]",
      "text/plain": [
       "<Figure size 1800x360 with 4 Axes>"
      ]
     },
     "metadata": {
      "needs_background": "light"
     },
     "output_type": "display_data"
    }
   ],
   "source": [
    "fig,ax=plt.subplots(figsize=(25,5))\n",
    "\n",
    "plt.subplot(1, 5, 2)\n",
    "sns.boxplot(x=data['Age'])\n",
    "\n",
    "plt.subplot(1, 5, 3)\n",
    "sns.boxplot(x=data['Annual Income (k$)'])\n",
    "\n",
    "plt.subplot(1, 5, 4)\n",
    "sns.boxplot(x=data['Spending Score (1-100)'])\n",
    "\n",
    "plt.subplot(1, 5, 1)\n",
    "sns.boxplot(x=data['CustomerID'])\n"
   ]
  },
  {
   "cell_type": "code",
   "execution_count": 38,
   "metadata": {
    "colab": {
     "base_uri": "https://localhost:8080/",
     "height": 112
    },
    "id": "zAo2vX-Vfctg",
    "outputId": "db5c9b5d-f51f-4da5-da0b-aaaca5231110"
   },
   "outputs": [
    {
     "data": {
      "text/html": [
       "<div>\n",
       "<style scoped>\n",
       "    .dataframe tbody tr th:only-of-type {\n",
       "        vertical-align: middle;\n",
       "    }\n",
       "\n",
       "    .dataframe tbody tr th {\n",
       "        vertical-align: top;\n",
       "    }\n",
       "\n",
       "    .dataframe thead th {\n",
       "        text-align: right;\n",
       "    }\n",
       "</style>\n",
       "<table border=\"1\" class=\"dataframe\">\n",
       "  <thead>\n",
       "    <tr style=\"text-align: right;\">\n",
       "      <th></th>\n",
       "      <th>CustomerID</th>\n",
       "      <th>Age</th>\n",
       "      <th>Annual Income (k$)</th>\n",
       "      <th>Spending Score (1-100)</th>\n",
       "    </tr>\n",
       "  </thead>\n",
       "  <tbody>\n",
       "    <tr>\n",
       "      <th>0.25</th>\n",
       "      <td>50.75</td>\n",
       "      <td>28.75</td>\n",
       "      <td>41.5</td>\n",
       "      <td>34.75</td>\n",
       "    </tr>\n",
       "    <tr>\n",
       "      <th>0.75</th>\n",
       "      <td>150.25</td>\n",
       "      <td>49.00</td>\n",
       "      <td>78.0</td>\n",
       "      <td>73.00</td>\n",
       "    </tr>\n",
       "  </tbody>\n",
       "</table>\n",
       "</div>"
      ],
      "text/plain": [
       "      CustomerID    Age  Annual Income (k$)  Spending Score (1-100)\n",
       "0.25       50.75  28.75                41.5                   34.75\n",
       "0.75      150.25  49.00                78.0                   73.00"
      ]
     },
     "execution_count": 38,
     "metadata": {},
     "output_type": "execute_result"
    }
   ],
   "source": [
    "quant=data.quantile(q=[0.25,0.75])\n",
    "quant"
   ]
  },
  {
   "cell_type": "code",
   "execution_count": 39,
   "metadata": {
    "colab": {
     "base_uri": "https://localhost:8080/"
    },
    "id": "r3SvZzzCfh2n",
    "outputId": "da013756-0934-4cc6-a1cd-55b4072c9503"
   },
   "outputs": [
    {
     "data": {
      "text/plain": [
       "CustomerID                150.25\n",
       "Age                        49.00\n",
       "Annual Income (k$)         78.00\n",
       "Spending Score (1-100)     73.00\n",
       "Name: 0.75, dtype: float64"
      ]
     },
     "execution_count": 39,
     "metadata": {},
     "output_type": "execute_result"
    }
   ],
   "source": [
    "quant.loc[0.75]"
   ]
  },
  {
   "cell_type": "code",
   "execution_count": 40,
   "metadata": {
    "colab": {
     "base_uri": "https://localhost:8080/"
    },
    "id": "EEiEgfRxfvZ3",
    "outputId": "0a7da5db-7118-4a1b-c7c2-5aea403d588d"
   },
   "outputs": [
    {
     "data": {
      "text/plain": [
       "CustomerID                50.75\n",
       "Age                       28.75\n",
       "Annual Income (k$)        41.50\n",
       "Spending Score (1-100)    34.75\n",
       "Name: 0.25, dtype: float64"
      ]
     },
     "execution_count": 40,
     "metadata": {},
     "output_type": "execute_result"
    }
   ],
   "source": [
    "quant.loc[0.25]"
   ]
  },
  {
   "cell_type": "code",
   "execution_count": 41,
   "metadata": {
    "colab": {
     "base_uri": "https://localhost:8080/"
    },
    "id": "pPw2oqsOfylG",
    "outputId": "75a588ac-5561-4747-e4f0-e40a7031a52b"
   },
   "outputs": [
    {
     "data": {
      "text/plain": [
       "CustomerID                99.50\n",
       "Age                       20.25\n",
       "Annual Income (k$)        36.50\n",
       "Spending Score (1-100)    38.25\n",
       "dtype: float64"
      ]
     },
     "execution_count": 41,
     "metadata": {},
     "output_type": "execute_result"
    }
   ],
   "source": [
    "iqr=quant.loc[0.75]-quant.loc[0.25]\n",
    "iqr"
   ]
  },
  {
   "cell_type": "code",
   "execution_count": 42,
   "metadata": {
    "colab": {
     "base_uri": "https://localhost:8080/",
     "height": 296
    },
    "id": "zP3FjRCZf4k-",
    "outputId": "29cb7f68-72f0-4672-ffeb-78d655534adf"
   },
   "outputs": [
    {
     "data": {
      "text/plain": [
       "<AxesSubplot: xlabel='Annual Income (k$)'>"
      ]
     },
     "execution_count": 42,
     "metadata": {},
     "output_type": "execute_result"
    },
    {
     "data": {
      "image/png": "[encoded data removed]",
      "text/plain": [
       "<Figure size 432x288 with 1 Axes>"
      ]
     },
     "metadata": {
      "needs_background": "light"
     },
     "output_type": "display_data"
    }
   ],
   "source": [
    "sns.boxplot(x=data['Annual Income (k$)'])\n"
   ]
  },
  {
   "cell_type": "markdown",
   "metadata": {
    "id": "B03qInQMgGbG"
   },
   "source": [
    "## 7. Check for Categorical columns and perform encoding."
   ]
  },
  {
   "cell_type": "code",
   "execution_count": 43,
   "metadata": {
    "colab": {
     "base_uri": "https://localhost:8080/"
    },
    "id": "rBThsMOPgKuF",
    "outputId": "1a506a21-4c26-41ff-e381-ed5c2a480c49"
   },
   "outputs": [
    {
     "name": "stdout",
     "output_type": "stream",
     "text": [
      "<class 'pandas.core.frame.DataFrame'>\n",
      "RangeIndex: 200 entries, 0 to 199\n",
      "Data columns (total 5 columns):\n",
      " #   Column                  Non-Null Count  Dtype \n",
      "---  ------                  --------------  ----- \n",
      " 0   CustomerID              200 non-null    int64 \n",
      " 1   Gender                  200 non-null    object\n",
      " 2   Age                     200 non-null    int64 \n",
      " 3   Annual Income (k$)      200 non-null    int64 \n",
      " 4   Spending Score (1-100)  200 non-null    int64 \n",
      "dtypes: int64(4), object(1)\n",
      "memory usage: 7.9+ KB\n"
     ]
    }
   ],
   "source": [
    "data.info()"
   ]
  },
  {
   "cell_type": "code",
   "execution_count": 44,
   "metadata": {
    "colab": {
     "base_uri": "https://localhost:8080/"
    },
    "id": "O81CiheXgKjO",
    "outputId": "0de9f518-ec25-4975-9664-8b80d6b3be5e"
   },
   "outputs": [
    {
     "data": {
      "text/plain": [
       "array(['Male', 'Female'], dtype=object)"
      ]
     },
     "execution_count": 44,
     "metadata": {},
     "output_type": "execute_result"
    }
   ],
   "source": [
    "data['Gender'].unique()"
   ]
  },
  {
   "cell_type": "code",
   "execution_count": 45,
   "metadata": {
    "id": "qEaLGU1Iggwu"
   },
   "outputs": [],
   "source": [
    "data['Gender'].replace({'Male':1,\"Female\":0},inplace=True)"
   ]
  },
  {
   "cell_type": "code",
   "execution_count": 46,
   "metadata": {
    "colab": {
     "base_uri": "https://localhost:8080/",
     "height": 424
    },
    "id": "uiC0o0ZAgnuh",
    "outputId": "b87d2755-e16a-4535-e610-aaaa9c2153de"
   },
   "outputs": [
    {
     "data": {
      "text/html": [
       "<div>\n",
       "<style scoped>\n",
       "    .dataframe tbody tr th:only-of-type {\n",
       "        vertical-align: middle;\n",
       "    }\n",
       "\n",
       "    .dataframe tbody tr th {\n",
       "        vertical-align: top;\n",
       "    }\n",
       "\n",
       "    .dataframe thead th {\n",
       "        text-align: right;\n",
       "    }\n",
       "</style>\n",
       "<table border=\"1\" class=\"dataframe\">\n",
       "  <thead>\n",
       "    <tr style=\"text-align: right;\">\n",
       "      <th></th>\n",
       "      <th>CustomerID</th>\n",
       "      <th>Gender</th>\n",
       "      <th>Age</th>\n",
       "      <th>Annual Income (k$)</th>\n",
       "      <th>Spending Score (1-100)</th>\n",
       "    </tr>\n",
       "  </thead>\n",
       "  <tbody>\n",
       "    <tr>\n",
       "      <th>0</th>\n",
       "      <td>1</td>\n",
       "      <td>1</td>\n",
       "      <td>19</td>\n",
       "      <td>15</td>\n",
       "      <td>39</td>\n",
       "    </tr>\n",
       "    <tr>\n",
       "      <th>1</th>\n",
       "      <td>2</td>\n",
       "      <td>1</td>\n",
       "      <td>21</td>\n",
       "      <td>15</td>\n",
       "      <td>81</td>\n",
       "    </tr>\n",
       "    <tr>\n",
       "      <th>2</th>\n",
       "      <td>3</td>\n",
       "      <td>0</td>\n",
       "      <td>20</td>\n",
       "      <td>16</td>\n",
       "      <td>6</td>\n",
       "    </tr>\n",
       "    <tr>\n",
       "      <th>3</th>\n",
       "      <td>4</td>\n",
       "      <td>0</td>\n",
       "      <td>23</td>\n",
       "      <td>16</td>\n",
       "      <td>77</td>\n",
       "    </tr>\n",
       "    <tr>\n",
       "      <th>4</th>\n",
       "      <td>5</td>\n",
       "      <td>0</td>\n",
       "      <td>31</td>\n",
       "      <td>17</td>\n",
       "      <td>40</td>\n",
       "    </tr>\n",
       "    <tr>\n",
       "      <th>...</th>\n",
       "      <td>...</td>\n",
       "      <td>...</td>\n",
       "      <td>...</td>\n",
       "      <td>...</td>\n",
       "      <td>...</td>\n",
       "    </tr>\n",
       "    <tr>\n",
       "      <th>195</th>\n",
       "      <td>196</td>\n",
       "      <td>0</td>\n",
       "      <td>35</td>\n",
       "      <td>120</td>\n",
       "      <td>79</td>\n",
       "    </tr>\n",
       "    <tr>\n",
       "      <th>196</th>\n",
       "      <td>197</td>\n",
       "      <td>0</td>\n",
       "      <td>45</td>\n",
       "      <td>126</td>\n",
       "      <td>28</td>\n",
       "    </tr>\n",
       "    <tr>\n",
       "      <th>197</th>\n",
       "      <td>198</td>\n",
       "      <td>1</td>\n",
       "      <td>32</td>\n",
       "      <td>126</td>\n",
       "      <td>74</td>\n",
       "    </tr>\n",
       "    <tr>\n",
       "      <th>198</th>\n",
       "      <td>199</td>\n",
       "      <td>1</td>\n",
       "      <td>32</td>\n",
       "      <td>137</td>\n",
       "      <td>18</td>\n",
       "    </tr>\n",
       "    <tr>\n",
       "      <th>199</th>\n",
       "      <td>200</td>\n",
       "      <td>1</td>\n",
       "      <td>30</td>\n",
       "      <td>137</td>\n",
       "      <td>83</td>\n",
       "    </tr>\n",
       "  </tbody>\n",
       "</table>\n",
       "<p>200 rows × 5 columns</p>\n",
       "</div>"
      ],
      "text/plain": [
       "     CustomerID  Gender  Age  Annual Income (k$)  Spending Score (1-100)\n",
       "0             1       1   19                  15                      39\n",
       "1             2       1   21                  15                      81\n",
       "2             3       0   20                  16                       6\n",
       "3             4       0   23                  16                      77\n",
       "4             5       0   31                  17                      40\n",
       "..          ...     ...  ...                 ...                     ...\n",
       "195         196       0   35                 120                      79\n",
       "196         197       0   45                 126                      28\n",
       "197         198       1   32                 126                      74\n",
       "198         199       1   32                 137                      18\n",
       "199         200       1   30                 137                      83\n",
       "\n",
       "[200 rows x 5 columns]"
      ]
     },
     "execution_count": 46,
     "metadata": {},
     "output_type": "execute_result"
    }
   ],
   "source": [
    "data"
   ]
  },
  {
   "cell_type": "markdown",
   "metadata": {
    "id": "_ejPc3XPgrZI"
   },
   "source": [
    "## 8. Scaling the data"
   ]
  },
  {
   "cell_type": "code",
   "execution_count": 47,
   "metadata": {
    "id": "VfrO5M1_gwZT"
   },
   "outputs": [],
   "source": [
    "from sklearn.preprocessing import MinMaxScaler\n",
    "sc=MinMaxScaler()\n",
    "df=sc.fit_transform(data.iloc[:,1:])"
   ]
  },
  {
   "cell_type": "code",
   "execution_count": 48,
   "metadata": {
    "colab": {
     "base_uri": "https://localhost:8080/"
    },
    "id": "FSV5jl5Dg3B8",
    "outputId": "c25a1961-46ca-47ee-a608-3863ed93a659"
   },
   "outputs": [
    {
     "data": {
      "text/plain": [
       "array([[1.        , 0.01923077, 0.        , 0.3877551 ],\n",
       "       [1.        , 0.05769231, 0.        , 0.81632653],\n",
       "       [0.        , 0.03846154, 0.00819672, 0.05102041],\n",
       "       [0.        , 0.09615385, 0.00819672, 0.7755102 ],\n",
       "       [0.        , 0.25      , 0.01639344, 0.39795918],\n",
       "       [0.        , 0.07692308, 0.01639344, 0.76530612],\n",
       "       [0.        , 0.32692308, 0.02459016, 0.05102041],\n",
       "       [0.        , 0.09615385, 0.02459016, 0.94897959],\n",
       "       [1.        , 0.88461538, 0.03278689, 0.02040816],\n",
       "       [0.        , 0.23076923, 0.03278689, 0.7244898 ],\n",
       "       [1.        , 0.94230769, 0.03278689, 0.13265306],\n",
       "       [0.        , 0.32692308, 0.03278689, 1.        ],\n",
       "       [0.        , 0.76923077, 0.04098361, 0.14285714],\n",
       "       [0.        , 0.11538462, 0.04098361, 0.7755102 ],\n",
       "       [1.        , 0.36538462, 0.04098361, 0.12244898],\n",
       "       [1.        , 0.07692308, 0.04098361, 0.79591837],\n",
       "       [0.        , 0.32692308, 0.04918033, 0.34693878],\n",
       "       [1.        , 0.03846154, 0.04918033, 0.66326531],\n",
       "       [1.        , 0.65384615, 0.06557377, 0.28571429],\n",
       "       [0.        , 0.32692308, 0.06557377, 0.98979592],\n",
       "       [1.        , 0.32692308, 0.07377049, 0.34693878],\n",
       "       [1.        , 0.13461538, 0.07377049, 0.73469388],\n",
       "       [0.        , 0.53846154, 0.08196721, 0.04081633],\n",
       "       [1.        , 0.25      , 0.08196721, 0.73469388],\n",
       "       [0.        , 0.69230769, 0.10655738, 0.13265306],\n",
       "       [1.        , 0.21153846, 0.10655738, 0.82653061],\n",
       "       [0.        , 0.51923077, 0.10655738, 0.31632653],\n",
       "       [1.        , 0.32692308, 0.10655738, 0.6122449 ],\n",
       "       [0.        , 0.42307692, 0.1147541 , 0.30612245],\n",
       "       [0.        , 0.09615385, 0.1147541 , 0.87755102],\n",
       "       [1.        , 0.80769231, 0.12295082, 0.03061224],\n",
       "       [0.        , 0.05769231, 0.12295082, 0.73469388],\n",
       "       [1.        , 0.67307692, 0.14754098, 0.03061224],\n",
       "       [1.        , 0.        , 0.14754098, 0.92857143],\n",
       "       [0.        , 0.59615385, 0.14754098, 0.13265306],\n",
       "       [0.        , 0.05769231, 0.14754098, 0.81632653],\n",
       "       [0.        , 0.46153846, 0.1557377 , 0.16326531],\n",
       "       [0.        , 0.23076923, 0.1557377 , 0.73469388],\n",
       "       [0.        , 0.34615385, 0.18032787, 0.25510204],\n",
       "       [0.        , 0.03846154, 0.18032787, 0.75510204],\n",
       "       [0.        , 0.90384615, 0.18852459, 0.34693878],\n",
       "       [1.        , 0.11538462, 0.18852459, 0.92857143],\n",
       "       [1.        , 0.57692308, 0.19672131, 0.35714286],\n",
       "       [0.        , 0.25      , 0.19672131, 0.6122449 ],\n",
       "       [0.        , 0.59615385, 0.19672131, 0.2755102 ],\n",
       "       [0.        , 0.11538462, 0.19672131, 0.65306122],\n",
       "       [0.        , 0.61538462, 0.20491803, 0.55102041],\n",
       "       [0.        , 0.17307692, 0.20491803, 0.46938776],\n",
       "       [0.        , 0.21153846, 0.20491803, 0.41836735],\n",
       "       [0.        , 0.25      , 0.20491803, 0.41836735],\n",
       "       [0.        , 0.59615385, 0.22131148, 0.52040816],\n",
       "       [1.        , 0.28846154, 0.22131148, 0.60204082],\n",
       "       [0.        , 0.25      , 0.2295082 , 0.54081633],\n",
       "       [1.        , 0.78846154, 0.2295082 , 0.60204082],\n",
       "       [0.        , 0.61538462, 0.2295082 , 0.44897959],\n",
       "       [1.        , 0.55769231, 0.2295082 , 0.40816327],\n",
       "       [0.        , 0.63461538, 0.23770492, 0.5       ],\n",
       "       [1.        , 0.98076923, 0.23770492, 0.45918367],\n",
       "       [0.        , 0.17307692, 0.25409836, 0.51020408],\n",
       "       [1.        , 0.67307692, 0.25409836, 0.45918367],\n",
       "       [1.        , 1.        , 0.25409836, 0.56122449],\n",
       "       [1.        , 0.01923077, 0.25409836, 0.55102041],\n",
       "       [0.        , 0.94230769, 0.26229508, 0.52040816],\n",
       "       [0.        , 0.69230769, 0.26229508, 0.59183673],\n",
       "       [1.        , 0.86538462, 0.2704918 , 0.51020408],\n",
       "       [1.        , 0.        , 0.2704918 , 0.59183673],\n",
       "       [0.        , 0.48076923, 0.2704918 , 0.5       ],\n",
       "       [0.        , 0.96153846, 0.2704918 , 0.47959184],\n",
       "       [1.        , 0.01923077, 0.2704918 , 0.59183673],\n",
       "       [0.        , 0.26923077, 0.2704918 , 0.46938776],\n",
       "       [1.        , 1.        , 0.27868852, 0.55102041],\n",
       "       [0.        , 0.55769231, 0.27868852, 0.41836735],\n",
       "       [0.        , 0.80769231, 0.28688525, 0.48979592],\n",
       "       [0.        , 0.80769231, 0.28688525, 0.56122449],\n",
       "       [1.        , 0.78846154, 0.31967213, 0.46938776],\n",
       "       [1.        , 0.15384615, 0.31967213, 0.54081633],\n",
       "       [0.        , 0.51923077, 0.31967213, 0.53061224],\n",
       "       [1.        , 0.42307692, 0.31967213, 0.47959184],\n",
       "       [0.        , 0.09615385, 0.31967213, 0.52040816],\n",
       "       [0.        , 0.59615385, 0.31967213, 0.41836735],\n",
       "       [1.        , 0.75      , 0.31967213, 0.51020408],\n",
       "       [1.        , 0.38461538, 0.31967213, 0.55102041],\n",
       "       [1.        , 0.94230769, 0.31967213, 0.40816327],\n",
       "       [0.        , 0.53846154, 0.31967213, 0.43877551],\n",
       "       [0.        , 0.05769231, 0.31967213, 0.57142857],\n",
       "       [1.        , 0.57692308, 0.31967213, 0.45918367],\n",
       "       [0.        , 0.71153846, 0.3442623 , 0.58163265],\n",
       "       [0.        , 0.07692308, 0.3442623 , 0.55102041],\n",
       "       [0.        , 0.30769231, 0.35245902, 0.60204082],\n",
       "       [0.        , 0.61538462, 0.35245902, 0.45918367],\n",
       "       [0.        , 0.96153846, 0.36065574, 0.55102041],\n",
       "       [1.        , 0.        , 0.36065574, 0.40816327],\n",
       "       [1.        , 0.57692308, 0.36885246, 0.48979592],\n",
       "       [0.        , 0.42307692, 0.36885246, 0.39795918],\n",
       "       [0.        , 0.26923077, 0.36885246, 0.41836735],\n",
       "       [1.        , 0.11538462, 0.36885246, 0.52040816],\n",
       "       [0.        , 0.55769231, 0.36885246, 0.46938776],\n",
       "       [0.        , 0.17307692, 0.36885246, 0.5       ],\n",
       "       [1.        , 0.57692308, 0.37704918, 0.41836735],\n",
       "       [1.        , 0.03846154, 0.37704918, 0.48979592],\n",
       "       [0.        , 0.09615385, 0.3852459 , 0.40816327],\n",
       "       [0.        , 0.59615385, 0.3852459 , 0.47959184],\n",
       "       [1.        , 0.94230769, 0.3852459 , 0.59183673],\n",
       "       [1.        , 0.15384615, 0.3852459 , 0.55102041],\n",
       "       [1.        , 0.59615385, 0.3852459 , 0.56122449],\n",
       "       [0.        , 0.05769231, 0.3852459 , 0.41836735],\n",
       "       [0.        , 0.92307692, 0.39344262, 0.5       ],\n",
       "       [1.        , 0.69230769, 0.39344262, 0.45918367],\n",
       "       [1.        , 0.96153846, 0.39344262, 0.42857143],\n",
       "       [1.        , 0.92307692, 0.39344262, 0.47959184],\n",
       "       [1.        , 0.90384615, 0.39344262, 0.52040816],\n",
       "       [0.        , 0.01923077, 0.39344262, 0.54081633],\n",
       "       [0.        , 0.38461538, 0.40163934, 0.41836735],\n",
       "       [1.        , 0.01923077, 0.40163934, 0.45918367],\n",
       "       [0.        , 0.        , 0.40983607, 0.47959184],\n",
       "       [0.        , 0.01923077, 0.40983607, 0.5       ],\n",
       "       [0.        , 0.86538462, 0.40983607, 0.42857143],\n",
       "       [0.        , 0.59615385, 0.40983607, 0.59183673],\n",
       "       [0.        , 0.63461538, 0.42622951, 0.42857143],\n",
       "       [0.        , 0.61538462, 0.42622951, 0.57142857],\n",
       "       [1.        , 0.17307692, 0.42622951, 0.56122449],\n",
       "       [0.        , 0.38461538, 0.42622951, 0.39795918],\n",
       "       [0.        , 0.42307692, 0.44262295, 0.58163265],\n",
       "       [1.        , 0.40384615, 0.44262295, 0.91836735],\n",
       "       [0.        , 0.09615385, 0.45081967, 0.28571429],\n",
       "       [0.        , 0.25      , 0.45081967, 0.7755102 ],\n",
       "       [1.        , 0.48076923, 0.45901639, 0.34693878],\n",
       "       [1.        , 0.42307692, 0.45901639, 0.95918367],\n",
       "       [1.        , 0.78846154, 0.45901639, 0.10204082],\n",
       "       [1.        , 0.38461538, 0.45901639, 0.75510204],\n",
       "       [1.        , 0.55769231, 0.45901639, 0.08163265],\n",
       "       [1.        , 0.40384615, 0.45901639, 0.75510204],\n",
       "       [0.        , 0.13461538, 0.46721311, 0.33673469],\n",
       "       [0.        , 0.25      , 0.46721311, 0.71428571],\n",
       "       [1.        , 0.03846154, 0.47540984, 0.04081633],\n",
       "       [0.        , 0.21153846, 0.47540984, 0.8877551 ],\n",
       "       [0.        , 0.5       , 0.47540984, 0.06122449],\n",
       "       [1.        , 0.26923077, 0.47540984, 0.73469388],\n",
       "       [1.        , 0.01923077, 0.48360656, 0.09183673],\n",
       "       [0.        , 0.32692308, 0.48360656, 0.7244898 ],\n",
       "       [0.        , 0.75      , 0.49180328, 0.04081633],\n",
       "       [1.        , 0.26923077, 0.49180328, 0.93877551],\n",
       "       [0.        , 0.19230769, 0.5       , 0.39795918],\n",
       "       [0.        , 0.26923077, 0.5       , 0.87755102],\n",
       "       [1.        , 0.13461538, 0.50819672, 0.1122449 ],\n",
       "       [1.        , 0.19230769, 0.50819672, 0.97959184],\n",
       "       [1.        , 0.57692308, 0.50819672, 0.35714286],\n",
       "       [0.        , 0.26923077, 0.50819672, 0.74489796],\n",
       "       [0.        , 0.30769231, 0.51639344, 0.21428571],\n",
       "       [1.        , 0.30769231, 0.51639344, 0.90816327],\n",
       "       [1.        , 0.48076923, 0.51639344, 0.16326531],\n",
       "       [1.        , 0.40384615, 0.51639344, 0.8877551 ],\n",
       "       [0.        , 0.5       , 0.51639344, 0.19387755],\n",
       "       [0.        , 0.38461538, 0.51639344, 0.76530612],\n",
       "       [0.        , 0.55769231, 0.51639344, 0.15306122],\n",
       "       [0.        , 0.17307692, 0.51639344, 0.89795918],\n",
       "       [1.        , 0.36538462, 0.51639344, 0.        ],\n",
       "       [0.        , 0.23076923, 0.51639344, 0.78571429],\n",
       "       [1.        , 0.30769231, 0.51639344, 0.        ],\n",
       "       [0.        , 0.23076923, 0.51639344, 0.73469388],\n",
       "       [0.        , 0.73076923, 0.52459016, 0.34693878],\n",
       "       [0.        , 0.21153846, 0.52459016, 0.83673469],\n",
       "       [1.        , 0.01923077, 0.54098361, 0.04081633],\n",
       "       [0.        , 0.25      , 0.54098361, 0.93877551],\n",
       "       [1.        , 0.61538462, 0.57377049, 0.25510204],\n",
       "       [0.        , 0.34615385, 0.57377049, 0.75510204],\n",
       "       [1.        , 0.46153846, 0.58196721, 0.19387755],\n",
       "       [0.        , 0.28846154, 0.58196721, 0.95918367],\n",
       "       [0.        , 0.34615385, 0.59016393, 0.26530612],\n",
       "       [1.        , 0.26923077, 0.59016393, 0.63265306],\n",
       "       [1.        , 0.42307692, 0.59016393, 0.12244898],\n",
       "       [1.        , 0.19230769, 0.59016393, 0.75510204],\n",
       "       [1.        , 0.34615385, 0.59016393, 0.09183673],\n",
       "       [1.        , 0.34615385, 0.59016393, 0.92857143],\n",
       "       [0.        , 0.65384615, 0.59836066, 0.12244898],\n",
       "       [0.        , 0.23076923, 0.59836066, 0.86734694],\n",
       "       [1.        , 0.76923077, 0.59836066, 0.14285714],\n",
       "       [1.        , 0.17307692, 0.59836066, 0.69387755],\n",
       "       [1.        , 0.78846154, 0.63934426, 0.13265306],\n",
       "       [1.        , 0.32692308, 0.63934426, 0.90816327],\n",
       "       [0.        , 0.36538462, 0.67213115, 0.31632653],\n",
       "       [0.        , 0.26923077, 0.67213115, 0.86734694],\n",
       "       [1.        , 0.53846154, 0.68032787, 0.14285714],\n",
       "       [0.        , 0.21153846, 0.68032787, 0.8877551 ],\n",
       "       [0.        , 0.44230769, 0.68852459, 0.3877551 ],\n",
       "       [1.        , 0.23076923, 0.68852459, 0.97959184],\n",
       "       [0.        , 0.69230769, 0.70491803, 0.23469388],\n",
       "       [1.        , 0.19230769, 0.70491803, 0.68367347],\n",
       "       [0.        , 0.44230769, 0.72131148, 0.16326531],\n",
       "       [0.        , 0.34615385, 0.72131148, 0.85714286],\n",
       "       [0.        , 0.30769231, 0.72131148, 0.2244898 ],\n",
       "       [0.        , 0.26923077, 0.72131148, 0.69387755],\n",
       "       [1.        , 0.28846154, 0.80327869, 0.07142857],\n",
       "       [0.        , 0.38461538, 0.80327869, 0.91836735],\n",
       "       [0.        , 0.55769231, 0.86065574, 0.15306122],\n",
       "       [0.        , 0.32692308, 0.86065574, 0.79591837],\n",
       "       [0.        , 0.51923077, 0.90983607, 0.2755102 ],\n",
       "       [1.        , 0.26923077, 0.90983607, 0.74489796],\n",
       "       [1.        , 0.26923077, 1.        , 0.17346939],\n",
       "       [1.        , 0.23076923, 1.        , 0.83673469]])"
      ]
     },
     "execution_count": 48,
     "metadata": {},
     "output_type": "execute_result"
    }
   ],
   "source": [
    "df"
   ]
  },
  {
   "cell_type": "markdown",
   "metadata": {
    "id": "4AyVzXDwg7AR"
   },
   "source": [
    "## 9. Perform any of the clustering algorithms"
   ]
  },
  {
   "cell_type": "code",
   "execution_count": 49,
   "metadata": {
    "id": "56UUaM3Ig_0_"
   },
   "outputs": [],
   "source": [
    "from sklearn.cluster import KMeans\n",
    "TWSS=[]\n",
    "k=list(range(2,9))\n",
    "\n",
    "for i in k:\n",
    "    kmeans=KMeans(n_clusters=i,init='k-means++')\n",
    "    kmeans.fit(data)\n",
    "    TWSS.append(kmeans.inertia_)"
   ]
  },
  {
   "cell_type": "code",
   "execution_count": 50,
   "metadata": {
    "colab": {
     "base_uri": "https://localhost:8080/"
    },
    "id": "aFaG9UTihAc-",
    "outputId": "53d133c1-de21-49e0-d3a1-6d1ea2de443f"
   },
   "outputs": [
    {
     "data": {
      "text/plain": [
       "[387065.71377137717,\n",
       " 271396.5629660315,\n",
       " 195401.19855991466,\n",
       " 157505.72072477572,\n",
       " 122637.55796110151,\n",
       " 103865.31504894482,\n",
       " 86047.894078797]"
      ]
     },
     "execution_count": 50,
     "metadata": {},
     "output_type": "execute_result"
    }
   ],
   "source": [
    "TWSS"
   ]
  },
  {
   "cell_type": "code",
   "execution_count": 51,
   "metadata": {
    "colab": {
     "base_uri": "https://localhost:8080/",
     "height": 299
    },
    "id": "V4Rfxz11hAUu",
    "outputId": "6dfe5e8f-2606-4754-dde8-8500b6d66ffa"
   },
   "outputs": [
    {
     "data": {
      "text/plain": [
       "Text(0, 0.5, 'TWSS')"
      ]
     },
     "execution_count": 51,
     "metadata": {},
     "output_type": "execute_result"
    },
    {
     "data": {
      "image/png": "[encoded data removed]",
      "text/plain": [
       "<Figure size 432x288 with 1 Axes>"
      ]
     },
     "metadata": {
      "needs_background": "light"
     },
     "output_type": "display_data"
    }
   ],
   "source": [
    "plt.plot(k,TWSS,'ro--')\n",
    "plt.xlabel('no of cluster')\n",
    "plt.ylabel('TWSS')"
   ]
  },
  {
   "cell_type": "code",
   "execution_count": 53,
   "metadata": {
    "colab": {
     "base_uri": "https://localhost:8080/"
    },
    "id": "ZAVzjiu4hj0y",
    "outputId": "a29c47d4-144a-48fd-a304-e04c7681b15f"
   },
   "outputs": [
    {
     "data": {
      "text/html": [
       "<style>#sk-container-id-3 {color: black;background-color: white;}#sk-container-id-3 pre{padding: 0;}#sk-container-id-3 div.sk-toggleable {background-color: white;}#sk-container-id-3 label.sk-toggleable__label {cursor: pointer;display: block;width: 100%;margin-bottom: 0;padding: 0.3em;box-sizing: border-box;text-align: center;}#sk-container-id-3 label.sk-toggleable__label-arrow:before {content: \"▸\";float: left;margin-right: 0.25em;color: #696969;}#sk-container-id-3 label.sk-toggleable__label-arrow:hover:before {color: black;}#sk-container-id-3 div.sk-estimator:hover label.sk-toggleable__label-arrow:before {color: black;}#sk-container-id-3 div.sk-toggleable__content {max-height: 0;max-width: 0;overflow: hidden;text-align: left;background-color: #f0f8ff;}#sk-container-id-3 div.sk-toggleable__content pre {margin: 0.2em;color: black;border-radius: 0.25em;background-color: #f0f8ff;}#sk-container-id-3 input.sk-toggleable__control:checked~div.sk-toggleable__content {max-height: 200px;max-width: 100%;overflow: auto;}#sk-container-id-3 input.sk-toggleable__control:checked~label.sk-toggleable__label-arrow:before {content: \"▾\";}#sk-container-id-3 div.sk-estimator input.sk-toggleable__control:checked~label.sk-toggleable__label {background-color: #d4ebff;}#sk-container-id-3 div.sk-label input.sk-toggleable__control:checked~label.sk-toggleable__label {background-color: #d4ebff;}#sk-container-id-3 input.sk-hidden--visually {border: 0;clip: rect(1px 1px 1px 1px);clip: rect(1px, 1px, 1px, 1px);height: 1px;margin: -1px;overflow: hidden;padding: 0;position: absolute;width: 1px;}#sk-container-id-3 div.sk-estimator {font-family: monospace;background-color: #f0f8ff;border: 1px dotted black;border-radius: 0.25em;box-sizing: border-box;margin-bottom: 0.5em;}#sk-container-id-3 div.sk-estimator:hover {background-color: #d4ebff;}#sk-container-id-3 div.sk-parallel-item::after {content: \"\";width: 100%;border-bottom: 1px solid gray;flex-grow: 1;}#sk-container-id-3 div.sk-label:hover label.sk-toggleable__label {background-color: #d4ebff;}#sk-container-id-3 div.sk-serial::before {content: \"\";position: absolute;border-left: 1px solid gray;box-sizing: border-box;top: 0;bottom: 0;left: 50%;z-index: 0;}#sk-container-id-3 div.sk-serial {display: flex;flex-direction: column;align-items: center;background-color: white;padding-right: 0.2em;padding-left: 0.2em;position: relative;}#sk-container-id-3 div.sk-item {position: relative;z-index: 1;}#sk-container-id-3 div.sk-parallel {display: flex;align-items: stretch;justify-content: center;background-color: white;position: relative;}#sk-container-id-3 div.sk-item::before, #sk-container-id-3 div.sk-parallel-item::before {content: \"\";position: absolute;border-left: 1px solid gray;box-sizing: border-box;top: 0;bottom: 0;left: 50%;z-index: -1;}#sk-container-id-3 div.sk-parallel-item {display: flex;flex-direction: column;z-index: 1;position: relative;background-color: white;}#sk-container-id-3 div.sk-parallel-item:first-child::after {align-self: flex-end;width: 50%;}#sk-container-id-3 div.sk-parallel-item:last-child::after {align-self: flex-start;width: 50%;}#sk-container-id-3 div.sk-parallel-item:only-child::after {width: 0;}#sk-container-id-3 div.sk-dashed-wrapped {border: 1px dashed gray;margin: 0 0.4em 0.5em 0.4em;box-sizing: border-box;padding-bottom: 0.4em;background-color: white;}#sk-container-id-3 div.sk-label label {font-family: monospace;font-weight: bold;display: inline-block;line-height: 1.2em;}#sk-container-id-3 div.sk-label-container {text-align: center;}#sk-container-id-3 div.sk-container {/* jupyter's `normalize.less` sets `[hidden] { display: none; }` but bootstrap.min.css set `[hidden] { display: none !important; }` so we also need the `!important` here to be able to override the default hidden behavior on the sphinx rendered scikit-learn.org. See: https://github.com/scikit-learn/scikit-learn/issues/21755 */display: inline-block !important;position: relative;}#sk-container-id-3 div.sk-text-repr-fallback {display: none;}</style><div id=\"sk-container-id-3\" class=\"sk-top-container\"><div class=\"sk-text-repr-fallback\"><pre>KMeans(n_clusters=4)</pre><b>In a Jupyter environment, please rerun this cell to show the HTML representation or trust the notebook. <br />On GitHub, the HTML representation is unable to render, please try loading this page with nbviewer.org.</b></div><div class=\"sk-container\" hidden><div class=\"sk-item\"><div class=\"sk-estimator sk-toggleable\"><input class=\"sk-toggleable__control sk-hidden--visually\" id=\"sk-estimator-id-3\" type=\"checkbox\" checked><label for=\"sk-estimator-id-3\" class=\"sk-toggleable__label sk-toggleable__label-arrow\">KMeans</label><div class=\"sk-toggleable__content\"><pre>KMeans(n_clusters=4)</pre></div></div></div></div></div>"
      ],
      "text/plain": [
       "KMeans(n_clusters=4)"
      ]
     },
     "execution_count": 53,
     "metadata": {},
     "output_type": "execute_result"
    }
   ],
   "source": [
    "#selecting  4 clusters\n",
    "\n",
    "model=KMeans(n_clusters=4)\n",
    "\n",
    "model.fit(data)"
   ]
  },
  {
   "cell_type": "code",
   "execution_count": 54,
   "metadata": {
    "colab": {
     "base_uri": "https://localhost:8080/"
    },
    "id": "giOhQ7LDhrkF",
    "outputId": "3329da73-deaf-4203-deea-040cb8b5a349"
   },
   "outputs": [
    {
     "data": {
      "text/plain": [
       "array([2, 2, 2, 2, 2, 2, 2, 2, 2, 2, 2, 2, 2, 2, 2, 2, 2, 2, 2, 2, 2, 2,\n",
       "       2, 2, 2, 2, 2, 2, 2, 2, 2, 2, 2, 2, 2, 2, 2, 2, 2, 2, 2, 2, 2, 2,\n",
       "       2, 2, 2, 2, 2, 2, 2, 2, 2, 2, 2, 2, 2, 1, 2, 1, 1, 2, 1, 1, 1, 1,\n",
       "       1, 1, 1, 1, 1, 1, 1, 1, 1, 1, 1, 1, 1, 1, 1, 1, 1, 1, 1, 1, 1, 1,\n",
       "       1, 1, 1, 1, 1, 1, 1, 1, 1, 1, 1, 1, 1, 1, 1, 1, 1, 1, 1, 1, 1, 1,\n",
       "       1, 1, 1, 1, 1, 1, 1, 1, 1, 1, 1, 1, 1, 3, 1, 3, 1, 3, 0, 3, 0, 3,\n",
       "       0, 3, 0, 3, 0, 3, 0, 3, 0, 3, 0, 3, 0, 3, 0, 3, 0, 3, 0, 3, 0, 3,\n",
       "       0, 3, 0, 3, 0, 3, 0, 3, 0, 3, 0, 3, 0, 3, 0, 3, 0, 3, 0, 3, 0, 3,\n",
       "       0, 3, 0, 3, 0, 3, 0, 3, 0, 3, 0, 3, 0, 3, 0, 3, 0, 3, 0, 3, 0, 3,\n",
       "       0, 3])"
      ]
     },
     "execution_count": 54,
     "metadata": {},
     "output_type": "execute_result"
    }
   ],
   "source": [
    "model.labels_"
   ]
  },
  {
   "cell_type": "code",
   "execution_count": 55,
   "metadata": {
    "colab": {
     "base_uri": "https://localhost:8080/",
     "height": 143
    },
    "id": "aLeIHRAfhz0s",
    "outputId": "20b89296-7a76-452d-993e-8c4b7c6d5a49"
   },
   "outputs": [
    {
     "data": {
      "text/html": [
       "<div>\n",
       "<style scoped>\n",
       "    .dataframe tbody tr th:only-of-type {\n",
       "        vertical-align: middle;\n",
       "    }\n",
       "\n",
       "    .dataframe tbody tr th {\n",
       "        vertical-align: top;\n",
       "    }\n",
       "\n",
       "    .dataframe thead th {\n",
       "        text-align: right;\n",
       "    }\n",
       "</style>\n",
       "<table border=\"1\" class=\"dataframe\">\n",
       "  <thead>\n",
       "    <tr style=\"text-align: right;\">\n",
       "      <th></th>\n",
       "      <th>CustomerID</th>\n",
       "      <th>Gender</th>\n",
       "      <th>Age</th>\n",
       "      <th>Annual Income (k$)</th>\n",
       "      <th>Spending Score (1-100)</th>\n",
       "    </tr>\n",
       "  </thead>\n",
       "  <tbody>\n",
       "    <tr>\n",
       "      <th>0</th>\n",
       "      <td>1</td>\n",
       "      <td>1</td>\n",
       "      <td>19</td>\n",
       "      <td>15</td>\n",
       "      <td>39</td>\n",
       "    </tr>\n",
       "    <tr>\n",
       "      <th>1</th>\n",
       "      <td>2</td>\n",
       "      <td>1</td>\n",
       "      <td>21</td>\n",
       "      <td>15</td>\n",
       "      <td>81</td>\n",
       "    </tr>\n",
       "    <tr>\n",
       "      <th>2</th>\n",
       "      <td>3</td>\n",
       "      <td>0</td>\n",
       "      <td>20</td>\n",
       "      <td>16</td>\n",
       "      <td>6</td>\n",
       "    </tr>\n",
       "  </tbody>\n",
       "</table>\n",
       "</div>"
      ],
      "text/plain": [
       "   CustomerID  Gender  Age  Annual Income (k$)  Spending Score (1-100)\n",
       "0           1       1   19                  15                      39\n",
       "1           2       1   21                  15                      81\n",
       "2           3       0   20                  16                       6"
      ]
     },
     "execution_count": 55,
     "metadata": {},
     "output_type": "execute_result"
    }
   ],
   "source": [
    "mb=pd.Series(model.labels_)\n",
    "data.head(3)"
   ]
  },
  {
   "cell_type": "markdown",
   "metadata": {
    "id": "5AK9pu9Eh3uF"
   },
   "source": [
    "## 10. Add the cluster data with the primary dataset"
   ]
  },
  {
   "cell_type": "code",
   "execution_count": 56,
   "metadata": {
    "colab": {
     "base_uri": "https://localhost:8080/",
     "height": 206
    },
    "id": "s-EiG6Wzh7YL",
    "outputId": "6f546689-c6e8-4055-f791-a020a5e41eef"
   },
   "outputs": [
    {
     "data": {
      "text/html": [
       "<div>\n",
       "<style scoped>\n",
       "    .dataframe tbody tr th:only-of-type {\n",
       "        vertical-align: middle;\n",
       "    }\n",
       "\n",
       "    .dataframe tbody tr th {\n",
       "        vertical-align: top;\n",
       "    }\n",
       "\n",
       "    .dataframe thead th {\n",
       "        text-align: right;\n",
       "    }\n",
       "</style>\n",
       "<table border=\"1\" class=\"dataframe\">\n",
       "  <thead>\n",
       "    <tr style=\"text-align: right;\">\n",
       "      <th></th>\n",
       "      <th>CustomerID</th>\n",
       "      <th>Gender</th>\n",
       "      <th>Age</th>\n",
       "      <th>Annual Income (k$)</th>\n",
       "      <th>Spending Score (1-100)</th>\n",
       "      <th>clust</th>\n",
       "    </tr>\n",
       "  </thead>\n",
       "  <tbody>\n",
       "    <tr>\n",
       "      <th>0</th>\n",
       "      <td>1</td>\n",
       "      <td>1</td>\n",
       "      <td>19</td>\n",
       "      <td>15</td>\n",
       "      <td>39</td>\n",
       "      <td>2</td>\n",
       "    </tr>\n",
       "    <tr>\n",
       "      <th>1</th>\n",
       "      <td>2</td>\n",
       "      <td>1</td>\n",
       "      <td>21</td>\n",
       "      <td>15</td>\n",
       "      <td>81</td>\n",
       "      <td>2</td>\n",
       "    </tr>\n",
       "    <tr>\n",
       "      <th>2</th>\n",
       "      <td>3</td>\n",
       "      <td>0</td>\n",
       "      <td>20</td>\n",
       "      <td>16</td>\n",
       "      <td>6</td>\n",
       "      <td>2</td>\n",
       "    </tr>\n",
       "    <tr>\n",
       "      <th>3</th>\n",
       "      <td>4</td>\n",
       "      <td>0</td>\n",
       "      <td>23</td>\n",
       "      <td>16</td>\n",
       "      <td>77</td>\n",
       "      <td>2</td>\n",
       "    </tr>\n",
       "    <tr>\n",
       "      <th>4</th>\n",
       "      <td>5</td>\n",
       "      <td>0</td>\n",
       "      <td>31</td>\n",
       "      <td>17</td>\n",
       "      <td>40</td>\n",
       "      <td>2</td>\n",
       "    </tr>\n",
       "  </tbody>\n",
       "</table>\n",
       "</div>"
      ],
      "text/plain": [
       "   CustomerID  Gender  Age  Annual Income (k$)  Spending Score (1-100)  clust\n",
       "0           1       1   19                  15                      39      2\n",
       "1           2       1   21                  15                      81      2\n",
       "2           3       0   20                  16                       6      2\n",
       "3           4       0   23                  16                      77      2\n",
       "4           5       0   31                  17                      40      2"
      ]
     },
     "execution_count": 56,
     "metadata": {},
     "output_type": "execute_result"
    }
   ],
   "source": [
    "data['clust']=mb\n",
    "data.head()"
   ]
  },
  {
   "cell_type": "markdown",
   "metadata": {
    "id": "rbvHuUtrh_Zs"
   },
   "source": [
    "## 11. Split the data into dependent and independent variables"
   ]
  },
  {
   "cell_type": "code",
   "execution_count": 68,
   "metadata": {
    "colab": {
     "base_uri": "https://localhost:8080/"
    },
    "id": "pBzNA1WPiE9d",
    "outputId": "456fbba6-377e-482f-c6aa-c2e7d62356bf"
   },
   "outputs": [
    {
     "data": {
      "text/plain": [
       "0      2\n",
       "1      2\n",
       "2      2\n",
       "3      2\n",
       "4      2\n",
       "      ..\n",
       "195    3\n",
       "196    0\n",
       "197    3\n",
       "198    0\n",
       "199    3\n",
       "Name: clust, Length: 200, dtype: int32"
      ]
     },
     "execution_count": 68,
     "metadata": {},
     "output_type": "execute_result"
    }
   ],
   "source": [
    "#dependent variable\n",
    "y= data['clust']\n",
    "y"
   ]
  },
  {
   "cell_type": "code",
   "execution_count": 69,
   "metadata": {
    "colab": {
     "base_uri": "https://localhost:8080/",
     "height": 206
    },
    "id": "1jbMQBBNj72K",
    "outputId": "35656fab-4a4f-47bb-da89-a426002cc468"
   },
   "outputs": [
    {
     "data": {
      "text/html": [
       "<div>\n",
       "<style scoped>\n",
       "    .dataframe tbody tr th:only-of-type {\n",
       "        vertical-align: middle;\n",
       "    }\n",
       "\n",
       "    .dataframe tbody tr th {\n",
       "        vertical-align: top;\n",
       "    }\n",
       "\n",
       "    .dataframe thead th {\n",
       "        text-align: right;\n",
       "    }\n",
       "</style>\n",
       "<table border=\"1\" class=\"dataframe\">\n",
       "  <thead>\n",
       "    <tr style=\"text-align: right;\">\n",
       "      <th></th>\n",
       "      <th>Gender</th>\n",
       "      <th>Age</th>\n",
       "      <th>Annual Income (k$)</th>\n",
       "      <th>Spending Score (1-100)</th>\n",
       "    </tr>\n",
       "  </thead>\n",
       "  <tbody>\n",
       "    <tr>\n",
       "      <th>0</th>\n",
       "      <td>1</td>\n",
       "      <td>19</td>\n",
       "      <td>15</td>\n",
       "      <td>39</td>\n",
       "    </tr>\n",
       "    <tr>\n",
       "      <th>1</th>\n",
       "      <td>1</td>\n",
       "      <td>21</td>\n",
       "      <td>15</td>\n",
       "      <td>81</td>\n",
       "    </tr>\n",
       "    <tr>\n",
       "      <th>2</th>\n",
       "      <td>0</td>\n",
       "      <td>20</td>\n",
       "      <td>16</td>\n",
       "      <td>6</td>\n",
       "    </tr>\n",
       "    <tr>\n",
       "      <th>3</th>\n",
       "      <td>0</td>\n",
       "      <td>23</td>\n",
       "      <td>16</td>\n",
       "      <td>77</td>\n",
       "    </tr>\n",
       "    <tr>\n",
       "      <th>4</th>\n",
       "      <td>0</td>\n",
       "      <td>31</td>\n",
       "      <td>17</td>\n",
       "      <td>40</td>\n",
       "    </tr>\n",
       "  </tbody>\n",
       "</table>\n",
       "</div>"
      ],
      "text/plain": [
       "   Gender  Age  Annual Income (k$)  Spending Score (1-100)\n",
       "0       1   19                  15                      39\n",
       "1       1   21                  15                      81\n",
       "2       0   20                  16                       6\n",
       "3       0   23                  16                      77\n",
       "4       0   31                  17                      40"
      ]
     },
     "execution_count": 69,
     "metadata": {},
     "output_type": "execute_result"
    }
   ],
   "source": [
    "#independent variable\n",
    "x= data.drop(columns=['CustomerID','clust'],axis=1)\n",
    "x.head()"
   ]
  },
  {
   "cell_type": "code",
   "execution_count": 59,
   "metadata": {
    "colab": {
     "base_uri": "https://localhost:8080/",
     "height": 206
    },
    "id": "5_SsNhVfj_zu",
    "outputId": "13f5a8b2-9971-43fa-fc58-ed567e4eb718"
   },
   "outputs": [
    {
     "data": {
      "text/html": [
       "<div>\n",
       "<style scoped>\n",
       "    .dataframe tbody tr th:only-of-type {\n",
       "        vertical-align: middle;\n",
       "    }\n",
       "\n",
       "    .dataframe tbody tr th {\n",
       "        vertical-align: top;\n",
       "    }\n",
       "\n",
       "    .dataframe thead th {\n",
       "        text-align: right;\n",
       "    }\n",
       "</style>\n",
       "<table border=\"1\" class=\"dataframe\">\n",
       "  <thead>\n",
       "    <tr style=\"text-align: right;\">\n",
       "      <th></th>\n",
       "      <th>Gender</th>\n",
       "      <th>Age</th>\n",
       "      <th>Annual Income (k$)</th>\n",
       "      <th>Spending Score (1-100)</th>\n",
       "    </tr>\n",
       "  </thead>\n",
       "  <tbody>\n",
       "    <tr>\n",
       "      <th>195</th>\n",
       "      <td>0</td>\n",
       "      <td>35</td>\n",
       "      <td>120</td>\n",
       "      <td>79</td>\n",
       "    </tr>\n",
       "    <tr>\n",
       "      <th>196</th>\n",
       "      <td>0</td>\n",
       "      <td>45</td>\n",
       "      <td>126</td>\n",
       "      <td>28</td>\n",
       "    </tr>\n",
       "    <tr>\n",
       "      <th>197</th>\n",
       "      <td>1</td>\n",
       "      <td>32</td>\n",
       "      <td>126</td>\n",
       "      <td>74</td>\n",
       "    </tr>\n",
       "    <tr>\n",
       "      <th>198</th>\n",
       "      <td>1</td>\n",
       "      <td>32</td>\n",
       "      <td>137</td>\n",
       "      <td>18</td>\n",
       "    </tr>\n",
       "    <tr>\n",
       "      <th>199</th>\n",
       "      <td>1</td>\n",
       "      <td>30</td>\n",
       "      <td>137</td>\n",
       "      <td>83</td>\n",
       "    </tr>\n",
       "  </tbody>\n",
       "</table>\n",
       "</div>"
      ],
      "text/plain": [
       "     Gender  Age  Annual Income (k$)  Spending Score (1-100)\n",
       "195       0   35                 120                      79\n",
       "196       0   45                 126                      28\n",
       "197       1   32                 126                      74\n",
       "198       1   32                 137                      18\n",
       "199       1   30                 137                      83"
      ]
     },
     "execution_count": 59,
     "metadata": {},
     "output_type": "execute_result"
    }
   ],
   "source": [
    "x.tail()"
   ]
  },
  {
   "cell_type": "markdown",
   "metadata": {
    "id": "FQQ0etdhkD_b"
   },
   "source": [
    "## 12. Split the data into training and testing"
   ]
  },
  {
   "cell_type": "code",
   "execution_count": 60,
   "metadata": {
    "id": "9U8TtsjbkHZC"
   },
   "outputs": [],
   "source": [
    "from sklearn.model_selection import train_test_split"
   ]
  },
  {
   "cell_type": "code",
   "execution_count": 61,
   "metadata": {
    "id": "rzgbXb0lkDUJ"
   },
   "outputs": [],
   "source": [
    "x_train,x_test,y_train,y_test=train_test_split(x,y,test_size=0.2,random_state=0)"
   ]
  },
  {
   "cell_type": "markdown",
   "metadata": {
    "id": "ZBh4swMCkTX4"
   },
   "source": [
    "## 13. Build the Model"
   ]
  },
  {
   "cell_type": "code",
   "execution_count": 62,
   "metadata": {
    "id": "a3ttPOp7kXsy"
   },
   "outputs": [],
   "source": [
    "from sklearn.ensemble import RandomForestClassifier"
   ]
  },
  {
   "cell_type": "code",
   "execution_count": 63,
   "metadata": {
    "id": "KqglT469kYSP"
   },
   "outputs": [],
   "source": [
    "rf=RandomForestClassifier()"
   ]
  },
  {
   "cell_type": "markdown",
   "metadata": {
    "id": "T-pBpj-OkjuF"
   },
   "source": [
    "## 14. Train the Model"
   ]
  },
  {
   "cell_type": "code",
   "execution_count": 64,
   "metadata": {
    "colab": {
     "base_uri": "https://localhost:8080/"
    },
    "id": "PdddZRAVknwm",
    "outputId": "f3ee9f43-6e39-4c15-ea9f-3e97e4019fb2"
   },
   "outputs": [
    {
     "data": {
      "text/html": [
       "<style>#sk-container-id-4 {color: black;background-color: white;}#sk-container-id-4 pre{padding: 0;}#sk-container-id-4 div.sk-toggleable {background-color: white;}#sk-container-id-4 label.sk-toggleable__label {cursor: pointer;display: block;width: 100%;margin-bottom: 0;padding: 0.3em;box-sizing: border-box;text-align: center;}#sk-container-id-4 label.sk-toggleable__label-arrow:before {content: \"▸\";float: left;margin-right: 0.25em;color: #696969;}#sk-container-id-4 label.sk-toggleable__label-arrow:hover:before {color: black;}#sk-container-id-4 div.sk-estimator:hover label.sk-toggleable__label-arrow:before {color: black;}#sk-container-id-4 div.sk-toggleable__content {max-height: 0;max-width: 0;overflow: hidden;text-align: left;background-color: #f0f8ff;}#sk-container-id-4 div.sk-toggleable__content pre {margin: 0.2em;color: black;border-radius: 0.25em;background-color: #f0f8ff;}#sk-container-id-4 input.sk-toggleable__control:checked~div.sk-toggleable__content {max-height: 200px;max-width: 100%;overflow: auto;}#sk-container-id-4 input.sk-toggleable__control:checked~label.sk-toggleable__label-arrow:before {content: \"▾\";}#sk-container-id-4 div.sk-estimator input.sk-toggleable__control:checked~label.sk-toggleable__label {background-color: #d4ebff;}#sk-container-id-4 div.sk-label input.sk-toggleable__control:checked~label.sk-toggleable__label {background-color: #d4ebff;}#sk-container-id-4 input.sk-hidden--visually {border: 0;clip: rect(1px 1px 1px 1px);clip: rect(1px, 1px, 1px, 1px);height: 1px;margin: -1px;overflow: hidden;padding: 0;position: absolute;width: 1px;}#sk-container-id-4 div.sk-estimator {font-family: monospace;background-color: #f0f8ff;border: 1px dotted black;border-radius: 0.25em;box-sizing: border-box;margin-bottom: 0.5em;}#sk-container-id-4 div.sk-estimator:hover {background-color: #d4ebff;}#sk-container-id-4 div.sk-parallel-item::after {content: \"\";width: 100%;border-bottom: 1px solid gray;flex-grow: 1;}#sk-container-id-4 div.sk-label:hover label.sk-toggleable__label {background-color: #d4ebff;}#sk-container-id-4 div.sk-serial::before {content: \"\";position: absolute;border-left: 1px solid gray;box-sizing: border-box;top: 0;bottom: 0;left: 50%;z-index: 0;}#sk-container-id-4 div.sk-serial {display: flex;flex-direction: column;align-items: center;background-color: white;padding-right: 0.2em;padding-left: 0.2em;position: relative;}#sk-container-id-4 div.sk-item {position: relative;z-index: 1;}#sk-container-id-4 div.sk-parallel {display: flex;align-items: stretch;justify-content: center;background-color: white;position: relative;}#sk-container-id-4 div.sk-item::before, #sk-container-id-4 div.sk-parallel-item::before {content: \"\";position: absolute;border-left: 1px solid gray;box-sizing: border-box;top: 0;bottom: 0;left: 50%;z-index: -1;}#sk-container-id-4 div.sk-parallel-item {display: flex;flex-direction: column;z-index: 1;position: relative;background-color: white;}#sk-container-id-4 div.sk-parallel-item:first-child::after {align-self: flex-end;width: 50%;}#sk-container-id-4 div.sk-parallel-item:last-child::after {align-self: flex-start;width: 50%;}#sk-container-id-4 div.sk-parallel-item:only-child::after {width: 0;}#sk-container-id-4 div.sk-dashed-wrapped {border: 1px dashed gray;margin: 0 0.4em 0.5em 0.4em;box-sizing: border-box;padding-bottom: 0.4em;background-color: white;}#sk-container-id-4 div.sk-label label {font-family: monospace;font-weight: bold;display: inline-block;line-height: 1.2em;}#sk-container-id-4 div.sk-label-container {text-align: center;}#sk-container-id-4 div.sk-container {/* jupyter's `normalize.less` sets `[hidden] { display: none; }` but bootstrap.min.css set `[hidden] { display: none !important; }` so we also need the `!important` here to be able to override the default hidden behavior on the sphinx rendered scikit-learn.org. See: https://github.com/scikit-learn/scikit-learn/issues/21755 */display: inline-block !important;position: relative;}#sk-container-id-4 div.sk-text-repr-fallback {display: none;}</style><div id=\"sk-container-id-4\" class=\"sk-top-container\"><div class=\"sk-text-repr-fallback\"><pre>RandomForestClassifier()</pre><b>In a Jupyter environment, please rerun this cell to show the HTML representation or trust the notebook. <br />On GitHub, the HTML representation is unable to render, please try loading this page with nbviewer.org.</b></div><div class=\"sk-container\" hidden><div class=\"sk-item\"><div class=\"sk-estimator sk-toggleable\"><input class=\"sk-toggleable__control sk-hidden--visually\" id=\"sk-estimator-id-4\" type=\"checkbox\" checked><label for=\"sk-estimator-id-4\" class=\"sk-toggleable__label sk-toggleable__label-arrow\">RandomForestClassifier</label><div class=\"sk-toggleable__content\"><pre>RandomForestClassifier()</pre></div></div></div></div></div>"
      ],
      "text/plain": [
       "RandomForestClassifier()"
      ]
     },
     "execution_count": 64,
     "metadata": {},
     "output_type": "execute_result"
    }
   ],
   "source": [
    "rf.fit(x_train,y_train)"
   ]
  },
  {
   "cell_type": "markdown",
   "metadata": {
    "id": "1dXLgnPoksLC"
   },
   "source": [
    "## 15. Test the Model"
   ]
  },
  {
   "cell_type": "code",
   "execution_count": 65,
   "metadata": {
    "id": "QslK93U4kvse"
   },
   "outputs": [],
   "source": [
    "#prediction\n",
    "pred=rf.predict(x_test)"
   ]
  },
  {
   "cell_type": "markdown",
   "metadata": {
    "id": "7yBuPeZFky9L"
   },
   "source": [
    "## 16. Measure the performance using Evaluvation Metrics"
   ]
  },
  {
   "cell_type": "code",
   "execution_count": 66,
   "metadata": {
    "colab": {
     "base_uri": "https://localhost:8080/"
    },
    "id": "7821BQWwk1vj",
    "outputId": "0d327562-3229-4c74-aa34-9cf46f509c2f"
   },
   "outputs": [
    {
     "data": {
      "text/plain": [
       "0.975"
      ]
     },
     "execution_count": 66,
     "metadata": {},
     "output_type": "execute_result"
    }
   ],
   "source": [
    "# Accuracy of DI model\n",
    "from sklearn.metrics import accuracy_score\n",
    "accuracy_score(y_test,pred)"
   ]
  },
  {
   "cell_type": "code",
   "execution_count": 67,
   "metadata": {
    "colab": {
     "base_uri": "https://localhost:8080/"
    },
    "id": "c9N3jGN9k5P_",
    "outputId": "6e0c7826-4fda-4a9c-babd-d815b90c9af9"
   },
   "outputs": [
    {
     "data": {
      "text/plain": [
       "array([[ 8,  0,  0,  0],\n",
       "       [ 0,  9,  0,  0],\n",
       "       [ 0,  1, 12,  0],\n",
       "       [ 0,  0,  0, 10]], dtype=int64)"
      ]
     },
     "execution_count": 67,
     "metadata": {},
     "output_type": "execute_result"
    }
   ],
   "source": [
    "#confusion matrix\n",
    "from sklearn import metrics\n",
    "metrics.confusion_matrix(y_test,pred)"
   ]
  }
 ],
 "metadata": {
  "colab": {
   "provenance": []
  },
  "kernelspec": {
   "display_name": "Python 3 (ipykernel)",
   "language": "python",
   "name": "python3"
  },
  "language_info": {
   "codemirror_mode": {
    "name": "ipython",
    "version": 3
   },
   "file_extension": ".py",
   "mimetype": "text/x-python",
   "name": "python",
   "nbconvert_exporter": "python",
   "pygments_lexer": "ipython3",
   "version": "3.9.12"
  }
 },
 "nbformat": 4,
 "nbformat_minor": 1
}